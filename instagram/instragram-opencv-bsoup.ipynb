{
 "cells": [
  {
   "cell_type": "markdown",
   "metadata": {},
   "source": [
    "# Tests involving OpenCV, BeautifulSoup and Instagram "
   ]
  },
  {
   "cell_type": "code",
   "execution_count": 1,
   "metadata": {},
   "outputs": [],
   "source": [
    "import requests"
   ]
  },
  {
   "cell_type": "code",
   "execution_count": 5,
   "metadata": {},
   "outputs": [
    {
     "data": {
      "text/plain": [
       "'アイザック 🥀'"
      ]
     },
     "execution_count": 5,
     "metadata": {},
     "output_type": "execute_result"
    }
   ],
   "source": [
    "comments = requests.get('https://www.instagram.com/p/BuUXCxflNys/?__a=1').json()['graphql']['shortcode_media'] \\\n",
    "    ['edge_media_to_tagged_user']['edges'][0]['node']['user']['full_name']\n",
    "comments\n",
    "\n"
   ]
  },
  {
   "cell_type": "code",
   "execution_count": null,
   "metadata": {},
   "outputs": [],
   "source": [
    "import requests\n",
    "import re\n",
    "import functools\n",
    "import operator\n",
    "import emoji\n",
    "from collections import Counter\n",
    "\n",
    "comments = requests.get('https://www.instagram.com/p/BuUXCxflNys/?__a=1').json()['graphql']['shortcode_media']['edge_media_to_tagged_user']['edges'][0]['full_name']\n",
    "#find usernames -> @(\\S*)?\n",
    "for c in comments:\n",
    "    em_split_emoji = emoji.get_emoji_regexp().split(re.sub('@(\\S*)?', '', c['node']['text']))\n",
    "    em_split_whitespace = [substr.split() for substr in em_split_emoji]\n",
    "    #em_split = functools.reduce(operator.concat, em_split_whitespace)\n",
    "    print(em_split_whitespace)\n",
    "    #print(Counter(re.sub('@(\\S*)?', '', c['node']['text']).split(' ')))"
   ]
  }
 ],
 "metadata": {
  "kernelspec": {
   "display_name": "Python 3",
   "language": "python",
   "name": "python3"
  },
  "language_info": {
   "codemirror_mode": {
    "name": "ipython",
    "version": 3
   },
   "file_extension": ".py",
   "mimetype": "text/x-python",
   "name": "python",
   "nbconvert_exporter": "python",
   "pygments_lexer": "ipython3",
   "version": "3.7.1"
  }
 },
 "nbformat": 4,
 "nbformat_minor": 2
}
