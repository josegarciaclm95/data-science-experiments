{
 "cells": [
  {
   "cell_type": "markdown",
   "metadata": {},
   "source": [
    "\n",
    "\n",
    "\n",
    "\n",
    "\n",
    "<br><br><br>\n",
    "<h2><font color=\"#004D7F\" size=5>MUII</font></h2>\n",
    "\n",
    "\n",
    "\n",
    "<h1><font color=\"#004D7F\" size=6>Análisis de datos</font></h1>\n",
    "\n",
    "<br><br>\n",
    "<div style=\"text-align: right\">\n",
    "<font color=\"#004D7F\" size=3>Maite Alonso</font><br>\n",
    "<font color=\"#004D7F\" size=3>Máster universitario en ingeniería informática</font><br>\n",
    "<font color=\"#004D7F\" size=3>Universidad de Castilla-La Mancha</font>\n",
    "\n",
    "</div>"
   ]
  },
  {
   "cell_type": "markdown",
   "metadata": {},
   "source": [
    "---\n",
    "\n",
    "<a id=\"indice\"></a>\n",
    "<h2><font color=\"#004D7F\" size=5>Índice</font></h2>\n",
    "\n",
    "\n",
    "* [1. Banco de datos marathon](#section1)\n",
    "* [2. Análisis numérico de variables](#section2)\n",
    "* [3. Representación gráfica de variables](#section3)\n",
    "    * [Relación entre variables](#section3A)\n",
    "    * [Análisis por sexos](#section3B)\n"
   ]
  },
  {
   "cell_type": "markdown",
   "metadata": {},
   "source": [
    "---\n",
    "\n",
    "<a id=\"section1\"></a>\n",
    "# <font color=\"#004D7F\"> 1. Banco de datos marathon</font>"
   ]
  },
  {
   "cell_type": "markdown",
   "metadata": {},
   "source": [
    "El banco de datos marathon contiene los tiempos de todos los ganadores de la maratón de Nueva York desde 1970 hasta 1999.\n",
    "Las variables del banco de datos son:\n",
    " - Year, año de la carrera.\n",
    " - Gender, sexo del ganador m=male, f=female.\n",
    " - Time, tiempo en horas del ganador.\n",
    " \n",
    "Este banco de datos está en formato texto separado por tabuladores.\n",
    "Comenzaremos importando los paquetes que necesitamos, pandas y cargando el banco de datos."
   ]
  },
  {
   "cell_type": "code",
   "execution_count": 1,
   "metadata": {},
   "outputs": [
    {
     "name": "stderr",
     "output_type": "stream",
     "text": [
      "C:\\Users\\garci\\Anaconda3\\lib\\site-packages\\statsmodels\\compat\\pandas.py:56: FutureWarning: The pandas.core.datetools module is deprecated and will be removed in a future version. Please use the pandas.tseries module instead.\n",
      "  from pandas.core import datetools\n"
     ]
    },
    {
     "data": {
      "text/html": [
       "<div>\n",
       "<style>\n",
       "    .dataframe thead tr:only-child th {\n",
       "        text-align: right;\n",
       "    }\n",
       "\n",
       "    .dataframe thead th {\n",
       "        text-align: left;\n",
       "    }\n",
       "\n",
       "    .dataframe tbody tr th {\n",
       "        vertical-align: top;\n",
       "    }\n",
       "</style>\n",
       "<table border=\"1\" class=\"dataframe\">\n",
       "  <thead>\n",
       "    <tr style=\"text-align: right;\">\n",
       "      <th></th>\n",
       "      <th>Year</th>\n",
       "      <th>Gender</th>\n",
       "      <th>Time</th>\n",
       "    </tr>\n",
       "  </thead>\n",
       "  <tbody>\n",
       "    <tr>\n",
       "      <th>0</th>\n",
       "      <td>1980</td>\n",
       "      <td>m</td>\n",
       "      <td>2.16139</td>\n",
       "    </tr>\n",
       "    <tr>\n",
       "      <th>1</th>\n",
       "      <td>1981</td>\n",
       "      <td>m</td>\n",
       "      <td>2.13694</td>\n",
       "    </tr>\n",
       "    <tr>\n",
       "      <th>2</th>\n",
       "      <td>1982</td>\n",
       "      <td>m</td>\n",
       "      <td>2.15806</td>\n",
       "    </tr>\n",
       "    <tr>\n",
       "      <th>3</th>\n",
       "      <td>1983</td>\n",
       "      <td>m</td>\n",
       "      <td>2.14972</td>\n",
       "    </tr>\n",
       "    <tr>\n",
       "      <th>4</th>\n",
       "      <td>1984</td>\n",
       "      <td>m</td>\n",
       "      <td>2.24806</td>\n",
       "    </tr>\n",
       "  </tbody>\n",
       "</table>\n",
       "</div>"
      ],
      "text/plain": [
       "   Year Gender     Time\n",
       "0  1980      m  2.16139\n",
       "1  1981      m  2.13694\n",
       "2  1982      m  2.15806\n",
       "3  1983      m  2.14972\n",
       "4  1984      m  2.24806"
      ]
     },
     "execution_count": 1,
     "metadata": {},
     "output_type": "execute_result"
    }
   ],
   "source": [
    "import pandas as pd\n",
    "import statsmodels.api as sm\n",
    "import statsmodels.formula.api as smf\n",
    "import pylab as pl\n",
    "import numpy as np\n",
    "import matplotlib.pyplot as plt\n",
    "\n",
    "#cargo los datos\n",
    "df = pd.read_csv(\"./marathon.txt\",sep='\\t')\n",
    "df.head()"
   ]
  },
  {
   "cell_type": "markdown",
   "metadata": {},
   "source": [
    "Una vez tenemos los dato hay que clasificar las variables:\n",
    "    - Year, es una variable cuantitativa discreta.\n",
    "    - Gender es una variable cualitativa.\n",
    "    - Time es una variable cuantitativa continua.\n",
    "\n",
    "Hacemos un resumen numérico de las variables para ver en que rango se mueven, si hay un outlier o dato atípico."
   ]
  },
  {
   "cell_type": "markdown",
   "metadata": {},
   "source": [
    "<a id=\"section2\"></a>\n",
    "# <font color=\"#004D7F\"> 2. Análisis numérico de las variables</font>"
   ]
  },
  {
   "cell_type": "code",
   "execution_count": 2,
   "metadata": {
    "scrolled": true
   },
   "outputs": [
    {
     "data": {
      "text/html": [
       "<div>\n",
       "<style>\n",
       "    .dataframe thead tr:only-child th {\n",
       "        text-align: right;\n",
       "    }\n",
       "\n",
       "    .dataframe thead th {\n",
       "        text-align: left;\n",
       "    }\n",
       "\n",
       "    .dataframe tbody tr th {\n",
       "        vertical-align: top;\n",
       "    }\n",
       "</style>\n",
       "<table border=\"1\" class=\"dataframe\">\n",
       "  <thead>\n",
       "    <tr style=\"text-align: right;\">\n",
       "      <th></th>\n",
       "      <th>Year</th>\n",
       "      <th>Time</th>\n",
       "    </tr>\n",
       "  </thead>\n",
       "  <tbody>\n",
       "    <tr>\n",
       "      <th>count</th>\n",
       "      <td>59.000000</td>\n",
       "      <td>59.000000</td>\n",
       "    </tr>\n",
       "    <tr>\n",
       "      <th>mean</th>\n",
       "      <td>1984.745763</td>\n",
       "      <td>2.390504</td>\n",
       "    </tr>\n",
       "    <tr>\n",
       "      <th>std</th>\n",
       "      <td>8.591482</td>\n",
       "      <td>0.240691</td>\n",
       "    </tr>\n",
       "    <tr>\n",
       "      <th>min</th>\n",
       "      <td>1970.000000</td>\n",
       "      <td>2.133610</td>\n",
       "    </tr>\n",
       "    <tr>\n",
       "      <th>25%</th>\n",
       "      <td>1977.500000</td>\n",
       "      <td>2.183470</td>\n",
       "    </tr>\n",
       "    <tr>\n",
       "      <th>50%</th>\n",
       "      <td>1985.000000</td>\n",
       "      <td>2.421390</td>\n",
       "    </tr>\n",
       "    <tr>\n",
       "      <th>75%</th>\n",
       "      <td>1992.000000</td>\n",
       "      <td>2.470140</td>\n",
       "    </tr>\n",
       "    <tr>\n",
       "      <th>max</th>\n",
       "      <td>1999.000000</td>\n",
       "      <td>3.144720</td>\n",
       "    </tr>\n",
       "  </tbody>\n",
       "</table>\n",
       "</div>"
      ],
      "text/plain": [
       "              Year       Time\n",
       "count    59.000000  59.000000\n",
       "mean   1984.745763   2.390504\n",
       "std       8.591482   0.240691\n",
       "min    1970.000000   2.133610\n",
       "25%    1977.500000   2.183470\n",
       "50%    1985.000000   2.421390\n",
       "75%    1992.000000   2.470140\n",
       "max    1999.000000   3.144720"
      ]
     },
     "execution_count": 2,
     "metadata": {},
     "output_type": "execute_result"
    }
   ],
   "source": [
    "df.describe()"
   ]
  },
  {
   "cell_type": "markdown",
   "metadata": {},
   "source": [
    "Aquí tenemos un resumen numérico de las variables cuantitativas Year y Time. \n",
    "\n",
    "Por el resumen, podemos decir que tenemos 59 observaciones.\n",
    "\n",
    "La media de la variable Time es 2.39, luego podemos decir que los ganadores/as de la marathon lo finalizan en 2.39 horas en media. La variable Year, tiene de media 1984.74. Esta variable representa los años y en este caso la media de años no tiene sentido o interpretación en este contexto.\n",
    "\n",
    "La desviación en la variable Time es de 0.24 horas, luego hay una desviación de 24 minutos.\n",
    "\n",
    "El valor mínimo de la variable Time es 2.13 y el máximo es de 3.14, hay una diferencia de una hora entre el que hizo el mejor tiempo y el peor. Esta diferencia es muy grande. Pero se tiene que tener en cuenta que estos tiempos es de hombres y mujeres, por tanto el análisis habría que hacerlo segmentado por sexos. Tal y como lo haremos en las siguientes secciones.\n",
    "\n",
    "Para ver si hay algún dato atípico nos fijamos en el máximo y el mínimo de cada variable. \n",
    "\n",
    "Si está dentro del rango aceptable de medida o no lo está. Por ejemplo, una maratón se corre en unas dos hora y media,más o menos, para hombres, si es un profesional o un amateur muy experimentado. Si observaramos que el valor máximo de la variable Time fuera un número mayor de dos horas y media, es porque o bien el dato es erroneo, nos hemos equivocado al introducir el número, o el aparato que mide esa variable, el cronómetro, está fallando o realmente es un outlier.\n",
    "\n",
    "Por tanto es importante fijarnos en el rango de las variables y ver si están dentro de lo esperado."
   ]
  },
  {
   "cell_type": "markdown",
   "metadata": {},
   "source": [
    "<a id=\"section3\"></a>\n",
    "# <font color=\"#004D7F\"> 3. Representación gráfica de las variables</font>"
   ]
  },
  {
   "cell_type": "markdown",
   "metadata": {},
   "source": [
    "Vamos a representar la variable Time mediante un histograma, ya que es una variable continua."
   ]
  },
  {
   "cell_type": "code",
   "execution_count": 7,
   "metadata": {},
   "outputs": [
    {
     "data": {
      "image/png": "[encoded data removed]",
      "text/plain": [
       "<matplotlib.figure.Figure at 0x34c4cea588>"
      ]
     },
     "metadata": {},
     "output_type": "display_data"
    }
   ],
   "source": [
    "pl.figure(1)\n",
    "pl.hist(df.Time)\n",
    "pl.xlabel('Time')\n",
    "pl.ylabel('Frecuencia')\n",
    "pl.show()"
   ]
  },
  {
   "cell_type": "markdown",
   "metadata": {},
   "source": [
    "Si nos fijamos en la distribución de la variable Time, podemos decir que es bimodal. Tiene dos modas. Esto es debido a que la variable Time recoge los tiempos de los ganadores hombres y mujeres.\n",
    "Y en ella podemos ver el tiempo que los hombres que ganaron suelen hacerlo en 2.2 horas, mientras que las mujeres lo hacen en 2.5 horas."
   ]
  },
  {
   "cell_type": "markdown",
   "metadata": {},
   "source": [
    "<a id=\"section3A\"></a> \n",
    "## <font color=\"#004D7F\" size=4> 3.1 Relación entre variables  </font>"
   ]
  },
  {
   "cell_type": "markdown",
   "metadata": {},
   "source": [
    "Si representamos la variable Time y Year, en un diagrama de dispersión. \n",
    "\n",
    "Podemos ver que por cada año tenemos dos valores, correspondientes a los tiempo de los ganadores hombre y mujer respectivamente.\n",
    "\n",
    "A parte, se pude apreciar como a lo largo del tiempo la marca ha ido descendiendo hasta un valor ,más o menso, de 2.2 para los hombres y 2.5 para las mujeres."
   ]
  },
  {
   "cell_type": "code",
   "execution_count": 9,
   "metadata": {},
   "outputs": [
    {
     "data": {
      "image/png": "[encoded data removed]",
      "text/plain": [
       "<matplotlib.figure.Figure at 0x34c9902dd8>"
      ]
     },
     "metadata": {},
     "output_type": "display_data"
    }
   ],
   "source": [
    "pl.figure(2)\n",
    "pl.scatter(df.Year, df.Time, s=20, marker='o', color='k')\n",
    "pl.xlabel('Year')\n",
    "pl.ylabel('Time')\n",
    "pl.show()"
   ]
  },
  {
   "cell_type": "markdown",
   "metadata": {},
   "source": [
    "<a id=\"section3B\"></a> \n",
    "## <font color=\"#004D7F\" size=4> 3.2 Análisis por sexo </font>"
   ]
  },
  {
   "cell_type": "markdown",
   "metadata": {},
   "source": [
    "Ahora vamos a analizar el tiempo por sexo.\n",
    "\n",
    "Para ello vamos a separar la variable Time en dos, el tiempo de los chicos y el de las chicas.\n",
    "\n",
    "Y para comparar las distribuciones, utilizamos un diagrama de cajas."
   ]
  },
  {
   "cell_type": "code",
   "execution_count": 14,
   "metadata": {},
   "outputs": [
    {
     "name": "stderr",
     "output_type": "stream",
     "text": [
      "C:\\Users\\MariaTeresa.Alonso\\AppData\\Local\\Continuum\\anaconda3\\lib\\site-packages\\numpy\\core\\fromnumeric.py:57: FutureWarning: reshape is deprecated and will raise in a subsequent release. Please use .values.reshape(...) instead\n",
      "  return getattr(obj, method)(*args, **kwds)\n"
     ]
    },
    {
     "data": {
      "image/png": "[encoded data removed]",
      "text/plain": [
       "<matplotlib.figure.Figure at 0x7c5cc84518>"
      ]
     },
     "metadata": {},
     "output_type": "display_data"
    }
   ],
   "source": [
    "chicas=df.Time[df.Gender==\"f\"]\n",
    "chicos=df.Time[df.Gender==\"m\"]\n",
    "data=[chicos,chicas]\n",
    "pl.figure(3)\n",
    "pl.boxplot(data)\n",
    "pl.show()"
   ]
  },
  {
   "cell_type": "markdown",
   "metadata": {},
   "source": [
    "A la vista del diagram de cajas del tiempo entre hombres y mujeres. Podemos decir que los hombres realizan la carrera en menos tiempo.\n",
    "\n",
    "En los tiempos de llegada de las mujeres hay más dispersión que ne la de los hombres. Por ser la caja más alargada.\n",
    "\n",
    "Vemos una serie de outliers tanto en hombres como en mujeres, esto es de ganadores de algún año que hicieron tiempos muy alejados del resto. Puede ser que sean de ganadarores de los primeros años, cuando las técnicas de correr no estaban muy estudiadas o puede ser de algún año en el que las condiciones meteorológicas no hayan acompañado y esto ha hecho que se corra más lento."
   ]
  },
  {
   "cell_type": "code",
   "execution_count": 20,
   "metadata": {},
   "outputs": [
    {
     "data": {
      "text/plain": [
       "(count    29.000000\n",
       " mean      2.566216\n",
       " std       0.212445\n",
       " min       2.411110\n",
       " 25%       2.450000\n",
       " 50%       2.468610\n",
       " 75%       2.541670\n",
       " max       3.144720\n",
       " Name: Time, dtype: float64, count    30.000000\n",
       " mean      2.220648\n",
       " std       0.107551\n",
       " min       2.133610\n",
       " 25%       2.157850\n",
       " 50%       2.183470\n",
       " 75%       2.208955\n",
       " max       2.527220\n",
       " Name: Time, dtype: float64)"
      ]
     },
     "execution_count": 20,
     "metadata": {},
     "output_type": "execute_result"
    }
   ],
   "source": [
    "chicas.describe(),chicos.describe()"
   ]
  },
  {
   "cell_type": "markdown",
   "metadata": {
    "collapsed": true
   },
   "source": [
    "Si hacemso un análisis numérico, vemos que las mujeres realizan la marathon en 2.5 horas en media , mientras que los hombres lo hacen en 2.22.\n",
    "\n",
    "La desviación de las mujeres, 0.21, es mayor que la de los hombres, 0.10. Lo cual queiere decir que entre los ganadores hombres no hay tanta diferencia de tiempos como entre las ganadoras mujeres.\n",
    "\n",
    "La mitad de los ganadores hombres lo hicieron en 2.18 y las mujeres en 2.46 horas. Esto es la mediana o percentil 50%"
   ]
  }
 ],
 "metadata": {
  "kernelspec": {
   "display_name": "Python 3",
   "language": "python",
   "name": "python3"
  },
  "language_info": {
   "codemirror_mode": {
    "name": "ipython",
    "version": 3
   },
   "file_extension": ".py",
   "mimetype": "text/x-python",
   "name": "python",
   "nbconvert_exporter": "python",
   "pygments_lexer": "ipython3",
   "version": "3.6.2"
  }
 },
 "nbformat": 4,
 "nbformat_minor": 2
}
