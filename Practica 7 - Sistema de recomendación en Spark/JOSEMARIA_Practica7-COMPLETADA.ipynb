{
 "cells": [
  {
   "cell_type": "markdown",
   "metadata": {},
   "source": [
    "<a id=\"principio\"></a> \n",
    "<img src=\"https://www.dsi.uclm.es/personal/LuisDeLaOssa/muii/logoD.png\" alt=\"Logo MUII\" align=\"right\">\n",
    "\n",
    "<br><br>\n",
    "\n",
    "\n",
    "## Práctica 7\n",
    "\n",
    "# Algoritmo de filtrado colaborativo en Spark\n",
    "\n",
    "\n",
    "<br>\n",
    "<div style=\"text-align: right\">\n",
    "Luis de la Ossa\n",
    "<br>\n",
    "Master Universitario en Ingeniería Informática\n",
    "<br>\n",
    "Universidad de Castilla-La Mancha\n",
    "\n",
    "</div>"
   ]
  },
  {
   "cell_type": "code",
   "execution_count": 1,
   "metadata": {},
   "outputs": [
    {
     "data": {
      "text/html": [
       "<style>.container { width:85% !important; }</style>"
      ],
      "text/plain": [
       "<IPython.core.display.HTML object>"
      ]
     },
     "metadata": {},
     "output_type": "display_data"
    }
   ],
   "source": [
    "# Permite establecer la anchura de la celda\n",
    "from IPython.core.display import display, HTML\n",
    "display(HTML(\"<style>.container { width:85% !important; }</style>\"))\n",
    "# Algunas inconsistencias con las versiones dan lugar a avisos molestos. Se ignoran.\n",
    "import warnings\n",
    "warnings.filterwarnings('ignore')"
   ]
  },
  {
   "cell_type": "markdown",
   "metadata": {},
   "source": [
    "Antes de empezar, se ha de comprobar que está activo el contexto Spark."
   ]
  },
  {
   "cell_type": "code",
   "execution_count": 2,
   "metadata": {},
   "outputs": [
    {
     "data": {
      "text/plain": [
       "<pyspark.context.SparkContext at 0x7f335c487128>"
      ]
     },
     "execution_count": 2,
     "metadata": {},
     "output_type": "execute_result"
    }
   ],
   "source": [
    "sc"
   ]
  },
  {
   "cell_type": "markdown",
   "metadata": {},
   "source": [
    "---\n",
    "\n",
    "## 1. Introducción \n",
    "\n",
    "<br>\n",
    "El objetivo de esta práctica es familiarizarse con la programación y tratamiento de datos en _Apache Spark_. Para ello, se implementará un algoritmo de recomendación basado en filtrado colaborativo. En concreto, basado en ítems más cercanos.\n",
    "\n",
    "Hay que tener en cuenta que _Spark_ hace las operaciones cuando necesita los datos, y no antes. Por eso, cuando se reportan los errores, éstos pueden haberse producido en celdas anteriores aparentemente correctas. Con el fin de que podáis comprobar cada paso, se ha añadido una llamada a la función `take()` comentada. \n",
    "\n",
    "<div class=\"alert alert-block alert-info\">\n",
    "<i class=\"fa fa-info-circle\" aria-hidden=\"true\"></i> El fin de este trabajo es esencialmente didáctico. Por tanto, no todos los pasos están optimizados. Además, Spark induce una sobrecarga que, para este problema concreto (con estos datos), no compensa, y produce una degradación del rendimiento con respecto a la implementación vectorizada con Numpy/Sklearn.\n",
    "</div>"
   ]
  },
  {
   "cell_type": "markdown",
   "metadata": {},
   "source": [
    "---\n",
    "\n",
    "## 2. Lectura de datos\n",
    "\n",
    "Para esta práctica, al igual que en la anterior, usaremos un conjunto de datos de [Movielens](https://grouplens.org/datasets/movielens/latest/). En concreto, se trabajará con el conjunto pequeño, almacenado en los archivos  `movies.csv` y `ratings.csv`.\n",
    "\n",
    "Para leerlos, es necesario proporcionar una ruta de acceso, que dependerá de si se trabaja en modo local, o en el entorno DSX de IBM. \n",
    "\n",
    "<div class=\"alert alert-block alert-warning\">\n",
    "<i class=\"fa fa-exclamation-circle\" aria-hidden=\"true\"></i>\n",
    "Las siguientes celdas almacenan la ruta de acceso a cada uno de los archivos para el trabajo en modo local. En caso de trabajar en DSX, han de ser generadas automáticamente desde el propio entorno.\n",
    "</div>"
   ]
  },
  {
   "cell_type": "code",
   "execution_count": 3,
   "metadata": {},
   "outputs": [],
   "source": [
    "from project_lib import Project\n",
    "project = Project(sc, 'b5e46857-c86f-4ec8-97be-241db2cba385', 'p-7056551edcf851315b11f179587c71495a4dd587')\n",
    "pc = project.project_context"
   ]
  },
  {
   "cell_type": "markdown",
   "metadata": {},
   "source": [
    "A continuación, y puesto que la lista de películas solamente se utilizará en modo local, la almacenaremos en un _DataFrame_ Pandas."
   ]
  },
  {
   "cell_type": "code",
   "execution_count": 4,
   "metadata": {},
   "outputs": [],
   "source": [
    "import pandas as pd\n",
    "import numpy as np\n",
    "\n",
    "# Acceso al conjunto de datos con la información de las películas. \n",
    "#path_movies = \"./datos/movies.csv\"\n",
    "\n",
    "# Acceso al conjunto de datos con la información de las películas desde DSX\n",
    "path_movies = project.get_file('movies.csv')"
   ]
  },
  {
   "cell_type": "code",
   "execution_count": 5,
   "metadata": {},
   "outputs": [
    {
     "data": {
      "text/html": [
       "<div>\n",
       "<style scoped>\n",
       "    .dataframe tbody tr th:only-of-type {\n",
       "        vertical-align: middle;\n",
       "    }\n",
       "\n",
       "    .dataframe tbody tr th {\n",
       "        vertical-align: top;\n",
       "    }\n",
       "\n",
       "    .dataframe thead th {\n",
       "        text-align: right;\n",
       "    }\n",
       "</style>\n",
       "<table border=\"1\" class=\"dataframe\">\n",
       "  <thead>\n",
       "    <tr style=\"text-align: right;\">\n",
       "      <th></th>\n",
       "      <th>title</th>\n",
       "      <th>genres</th>\n",
       "    </tr>\n",
       "    <tr>\n",
       "      <th>movieId</th>\n",
       "      <th></th>\n",
       "      <th></th>\n",
       "    </tr>\n",
       "  </thead>\n",
       "  <tbody>\n",
       "    <tr>\n",
       "      <th>1</th>\n",
       "      <td>Toy Story (1995)</td>\n",
       "      <td>Adventure|Animation|Children|Comedy|Fantasy</td>\n",
       "    </tr>\n",
       "    <tr>\n",
       "      <th>2</th>\n",
       "      <td>Jumanji (1995)</td>\n",
       "      <td>Adventure|Children|Fantasy</td>\n",
       "    </tr>\n",
       "    <tr>\n",
       "      <th>164977</th>\n",
       "      <td>The Gay Desperado (1936)</td>\n",
       "      <td>Comedy</td>\n",
       "    </tr>\n",
       "    <tr>\n",
       "      <th>164979</th>\n",
       "      <td>Women of '69, Unboxed</td>\n",
       "      <td>Documentary</td>\n",
       "    </tr>\n",
       "  </tbody>\n",
       "</table>\n",
       "</div>"
      ],
      "text/plain": [
       "                            title                                       genres\n",
       "movieId                                                                       \n",
       "1                Toy Story (1995)  Adventure|Animation|Children|Comedy|Fantasy\n",
       "2                  Jumanji (1995)                   Adventure|Children|Fantasy\n",
       "164977   The Gay Desperado (1936)                                       Comedy\n",
       "164979      Women of '69, Unboxed                                  Documentary"
      ]
     },
     "metadata": {},
     "output_type": "display_data"
    },
    {
     "name": "stdout",
     "output_type": "stream",
     "text": [
      "Número de películas:  9125\n"
     ]
    }
   ],
   "source": [
    "df_movies = pd.read_csv(path_movies, sep=',', index_col=0)\n",
    "# Muestra las dos primeras y las dos últimas\n",
    "display(df_movies.iloc[[0,1, -2,-1]])\n",
    "# Número de películas: 9125\n",
    "print(\"Número de películas: \",len(df_movies))"
   ]
  },
  {
   "cell_type": "markdown",
   "metadata": {},
   "source": [
    "Los datos relativos a las votaciones se almacenarán en un RDD."
   ]
  },
  {
   "cell_type": "code",
   "execution_count": 6,
   "metadata": {},
   "outputs": [],
   "source": [
    "# Acceso al conjunto de datos con la información sobre los votos. \n",
    "#path_ratings = \"./datos/ratings.csv\"\n",
    "\n",
    "# Acceso al conjunto de datos con la información de las películas desde DSX\n",
    "path_ratings = project.get_file_url('ratings.csv')"
   ]
  },
  {
   "cell_type": "code",
   "execution_count": 7,
   "metadata": {},
   "outputs": [
    {
     "data": {
      "text/plain": [
       "['1,31,2.5,1260759144', '1,1029,3.0,1260759179', '1,1061,3.0,1260759182']"
      ]
     },
     "execution_count": 7,
     "metadata": {},
     "output_type": "execute_result"
    }
   ],
   "source": [
    "dataRDD = sc.textFile(path_ratings)\n",
    "dataRDD.take(3)\n",
    "# ['1,31,2.5,1260759144', '1,1029,3.0,1260759179', '1,1061,3.0,1260759182']"
   ]
  },
  {
   "cell_type": "markdown",
   "metadata": {},
   "source": [
    "---\n",
    "\n",
    "## 3. Algoritmo de recomendación basado en similaridad entre películas.\n",
    "\n",
    "En esta parte implementaremos un algoritmo basado en similaridad entre ítems. Posteriormente, se obtendrán las películas similares a una dada. \n",
    "\n",
    "La técnica es parecida a la vista en clase. Dadas dos películas, su similaridad se obtiene a partir de las valoraciones que han hecho los usuarios que hayan visto ambas. Hemos de situarnos en un contexto en el que el número de usuarios es muy grande. "
   ]
  },
  {
   "cell_type": "markdown",
   "metadata": {},
   "source": [
    "#### <font color=\"#004D7F\"> <i class=\"fa fa-pencil-square-o\" aria-hidden=\"true\" style=\"color:#113D68\"></i>  Ejercicio 1 </font> \n",
    "En primer lugar, vamos a convertir el RDD de texto en un RDD con tuplas `(user_id, (movie_id, rating))`, denominado `ratingsRDD`, en el que `user_id` y `movie_id` son enteros, y `rating`es float. Utilizar la función `map`."
   ]
  },
  {
   "cell_type": "code",
   "execution_count": 8,
   "metadata": {},
   "outputs": [
    {
     "data": {
      "text/plain": [
       "[(1, (31, 2.5)), (1, (1029, 3.0)), (1, (1061, 3.0))]"
      ]
     },
     "execution_count": 8,
     "metadata": {},
     "output_type": "execute_result"
    }
   ],
   "source": [
    "def split_assing(data_item):\n",
    "    splited_item = data_item.split(',')\n",
    "    return (int(splited_item[0]), (int(splited_item[1]), float(splited_item[2])))\n",
    "ratingsRDD = dataRDD.map(split_assing)\n",
    "#\n",
    "ratingsRDD.take(3)\n",
    "#[(1, (31, 2.5)), (1, (1029, 3.0)), (1, (1061, 3.0))]"
   ]
  },
  {
   "cell_type": "markdown",
   "metadata": {},
   "source": [
    "De cara a diseñar el algoritmo, el principal factor a tener en cuenta es que se van a comparar pares de películas, y para ello solamente se considerán las valoraciones de usuarios que hayan visto ambas. Por ejemplo, si dos películas `movie_A`y `movie_B` han sido valoradas por cinco usuarios,\n",
    "\n",
    "$$\n",
    "movie\\_A = [ 0, 2, 4, 0, 1] \\quad movie\\_B = [1 ,3, 5, 0, 0], \n",
    "$$\n",
    "\n",
    "solamente se se utilizarán las valoraciones de los usuarios 2 y 3, que han visto ambas películas. Visto de otro modo, más aproximado a cómo se procederá aquí, el usuario 1, por ejemplo, no se tendrá en cuenta para calcular la distancia entre la película `movie_A` y ninguna otra. Por ello, en primer lugar se van a generar los pares de películas vistas por un mismo usuario. \n",
    "\n",
    "En el apartado anterior se han generado tuplas del tipo `(user_id, (movie_id, rating))`. Si se hace un _inner join_ de `ratingsRDD` consigo mismo, cada entrada del primer RDD se unirá con las entradas del segundo RDD con las que comparta clave (`user_id`), generando tuplas del tipo:  `(user_id, ((movie_id1, rating1), (movie_id2, rating2))`.\n",
    "\n",
    "\n",
    "\n",
    "#### <font color=\"#004D7F\"> <i class=\"fa fa-pencil-square-o\" aria-hidden=\"true\" style=\"color:#113D68\"></i>  Ejercicio 2 </font> \n",
    "\n",
    "Hacer un join del RDD `ratingsRDD` y almacenar el resultado en otro denominado `join_ratingsRDD`."
   ]
  },
  {
   "cell_type": "code",
   "execution_count": 9,
   "metadata": {},
   "outputs": [
    {
     "data": {
      "text/plain": [
       "[(256, ((3, 3.0), (3, 3.0))),\n",
       " (256, ((3, 3.0), (5, 3.0))),\n",
       " (256, ((3, 3.0), (6, 3.0)))]"
      ]
     },
     "execution_count": 9,
     "metadata": {},
     "output_type": "execute_result"
    }
   ],
   "source": [
    "join_ratingsRDD = ratingsRDD.join(ratingsRDD)\n",
    "\n",
    "join_ratingsRDD.take(3)\n",
    "#[(256, ((3, 3.0), (3, 3.0))),\n",
    "# (256, ((3, 3.0), (5, 3.0))),\n",
    "# (256, ((3, 3.0), (6, 3.0)))]"
   ]
  },
  {
   "cell_type": "markdown",
   "metadata": {},
   "source": [
    "En este punto, cada par de películas vistas por un usuario aparece dos veces en `join_ratingsRDD`, ya que también aparecerían en orden inverso. Es decir, por cada entrada `(user_id, ((movie_id1, rating1), (movie_id2, rating2))` tendríamos otra como `(user_id, ((movie_id2, rating2), (movie_id1, rating1))`. Para eliminar los duplicados, vamos a dejar solamente aquellas entradas en las que el índice de la primera película `movie_id1`, sea menor que el de la segunda `movie_id2`.\n"
   ]
  },
  {
   "cell_type": "markdown",
   "metadata": {},
   "source": [
    "#### <font color=\"#004D7F\"> <i class=\"fa fa-pencil-square-o\" aria-hidden=\"true\" style=\"color:#113D68\"></i>  Ejercicio 3 </font> \n",
    "\n",
    "Implementar una función denominada `filter_duplicates` que reciba una tupla del tipo `((movie_id1, rating1), (movie_id2, rating2))` y devuelva `True` cuando `movie_id1 < movie_id2`, y `False` en caso contrario. "
   ]
  },
  {
   "cell_type": "code",
   "execution_count": 10,
   "metadata": {},
   "outputs": [],
   "source": [
    "def filter_duplicates(ratings):\n",
    "    return ratings[0][0] < ratings[1][0]"
   ]
  },
  {
   "cell_type": "markdown",
   "metadata": {},
   "source": [
    "#### <font color=\"#004D7F\"> <i class=\"fa fa-pencil-square-o\" aria-hidden=\"true\" style=\"color:#113D68\"></i>  Ejercicio 4 </font> \n",
    "\n",
    "Utilizar la función anterior para eliminar los duplicados de `join_ratingsRDD`, mediante `filter`. \n",
    "\n",
    "<div class=\"alert alert-block alert-warning\">\n",
    "<i class=\"fa fa-exclamation-circle\" aria-hidden=\"true\"></i>\n",
    "Cada entrada de `join_ratingsRDD` es una tupla `(user_id, ((movie_id1, rating1), (movie_id2, rating2))`. Por tanto, a la función `filter_duplicates` hay que pasarle el segundo de los componentes de la tupla, ya que el primero es `user_id`.\n",
    "</div>"
   ]
  },
  {
   "cell_type": "code",
   "execution_count": 11,
   "metadata": {},
   "outputs": [
    {
     "data": {
      "text/plain": [
       "[(256, ((3, 3.0), (5, 3.0))),\n",
       " (256, ((3, 3.0), (6, 3.0))),\n",
       " (256, ((3, 3.0), (7, 3.0)))]"
      ]
     },
     "execution_count": 11,
     "metadata": {},
     "output_type": "execute_result"
    }
   ],
   "source": [
    "join_ratingsRDD = join_ratingsRDD.filter(lambda a: filter_duplicates(a[1]))\n",
    "\n",
    "\n",
    "join_ratingsRDD.take(3)\n",
    "#[(256, ((3, 3.0), (5, 3.0))),\n",
    "# (256, ((3, 3.0), (6, 3.0))),\n",
    "# (256, ((3, 3.0), (7, 3.0)))]"
   ]
  },
  {
   "cell_type": "markdown",
   "metadata": {},
   "source": [
    "\n",
    "En este punto, se dispone de entradas `(user_id, ((movie_id1, rating1), (movie_id2, rating2))`. De cara a computar la similaridad entre películas, se incluirán en los vectores correspondientes a las películas `movie_id1` y `movie_id2` las valoraciones correspondientes al usuario `user_id`.  Sin embargo, el usuario en sí es irrelevante. Por otra parte, de cara a hacer los cálculos de similaridad, se han de considerar pares de películas valoradas por un mismo usuario. \n",
    "\n",
    "#### <font color=\"#004D7F\"> <i class=\"fa fa-pencil-square-o\" aria-hidden=\"true\" style=\"color:#113D68\"></i>  Ejercicio 5 </font> \n",
    "\n",
    "Transformar el RDD `join_ratingsRDD` en el que las entradas son del tipo,  `(user_id, ((movie_id1, rating1), (movie_id2, rating2))`, en un RDD pareado denominado `movie_pairsRDD`, en el que las entradas sean de tipo `((movie_id1, movie_id2),(rating1, rating2))`. Utilizar la función `map`."
   ]
  },
  {
   "cell_type": "code",
   "execution_count": 12,
   "metadata": {},
   "outputs": [
    {
     "data": {
      "text/plain": [
       "[((3, 5), (3.0, 3.0)), ((3, 6), (3.0, 3.0)), ((3, 7), (3.0, 3.0))]"
      ]
     },
     "execution_count": 12,
     "metadata": {},
     "output_type": "execute_result"
    }
   ],
   "source": [
    "movie_pairsRDD = join_ratingsRDD.map(lambda a: ((a[1][0][0], a[1][1][0]), (a[1][0][1], a[1][1][1])))\n",
    "\n",
    "\n",
    "movie_pairsRDD.take(3)\n",
    "#[((3, 5), (3.0, 3.0)), ((3, 6), (3.0, 3.0)), ((3, 7), (3.0, 3.0))]"
   ]
  },
  {
   "cell_type": "markdown",
   "metadata": {},
   "source": [
    "<div class=\"alert alert-block alert-danger\">\n",
    "<i class=\"fa fa-exclamation-triangle\" aria-hidden=\"true\"></i>\n",
    "__OJO!__ Esta última operación genera un RDD de gran tamaño. Algunas operaciones sobre éste pueden requerir varios minutos. \n",
    "</div>"
   ]
  },
  {
   "cell_type": "code",
   "execution_count": 13,
   "metadata": {},
   "outputs": [
    {
     "data": {
      "text/plain": [
       "25313236"
      ]
     },
     "execution_count": 13,
     "metadata": {},
     "output_type": "execute_result"
    }
   ],
   "source": [
    "movie_pairsRDD.count()\n",
    "#25313236"
   ]
  },
  {
   "cell_type": "markdown",
   "metadata": {},
   "source": [
    "Para cada poder calcular la similaridad entre un par de películas, han de obtenerse las valoraciones echas por cada usuario que haya visto ambas, es decir, buscar todas las tuplas `(movie_id1, movie_id2)`, y agrupar los pares `(rating1, rating2)` de cada una de ellas.\n",
    "\n",
    "#### <font color=\"#004D7F\"> <i class=\"fa fa-pencil-square-o\" aria-hidden=\"true\" style=\"color:#113D68\"></i>  Ejercicio 6 </font> \n",
    "\n",
    "Agrupar las valoraciones existentes en el RDD `movie_pairsRDD` para cada par `(movie_id1, movie_id2)`. Se debe generar un RDD pareado denominado `movie_pairs_ratingsRDD` del tipo `(movie_id1, movie_id2): [(rating1, rating2), (rating1, rating2), ...] `.  Utilizar para ello `groupByKey()`."
   ]
  },
  {
   "cell_type": "code",
   "execution_count": 14,
   "metadata": {},
   "outputs": [
    {
     "data": {
      "text/plain": [
       "[((1892, 7018), <pyspark.resultiterable.ResultIterable at 0x7f331eaa3550>),\n",
       " ((6287, 108727), <pyspark.resultiterable.ResultIterable at 0x7f331eaa3358>),\n",
       " ((8, 5742), <pyspark.resultiterable.ResultIterable at 0x7f331eaa3278>)]"
      ]
     },
     "execution_count": 14,
     "metadata": {},
     "output_type": "execute_result"
    }
   ],
   "source": [
    "movie_pairs_ratingsRDD = movie_pairsRDD.groupByKey()\n",
    "\n",
    "# Muestra las tres primeras entradas.\n",
    "movie_pairs_ratingsRDD.take(3)\n",
    "\n",
    "# Este resultado puede cambiar. \n",
    "#[((5152, 156726), <pyspark.resultiterable.ResultIterable at 0x7fbdd8d2b3c8>),\n",
    "# ((3476, 5846), <pyspark.resultiterable.ResultIterable at 0x7fbdd8d2b438>),\n",
    "# ((3704, 90430), <pyspark.resultiterable.ResultIterable at 0x7fbdd8d2bf28>)]"
   ]
  },
  {
   "cell_type": "markdown",
   "metadata": {},
   "source": [
    "\n",
    "---\n",
    "\n",
    "### Cálculo de la similaridad coseno. \n",
    "\n",
    "Para cada par de películas, el RDD `movie_pairs_ratingsRDD` contiene una lista de tuplas, con formato,`[(3.0, 4.0), (2.0, 1.0), (3.0, 1.0)]`,  en la que cada tupla representa la valoración que ha hecho un mismo usuario a ambas. Es decir, la lista del ejemplo correspondería al par de vectores `[(3.0, 2.0, 1.0),(4.0, 1.0, 1.0)]`. A partir de esta información, es posible calcular la similaridad coseno. Además, se devolverá el número de usuarios que ha puntuado las dos películas."
   ]
  },
  {
   "cell_type": "code",
   "execution_count": 15,
   "metadata": {},
   "outputs": [
    {
     "data": {
      "text/plain": [
       "(0.8542821429703302, 3)"
      ]
     },
     "execution_count": 15,
     "metadata": {},
     "output_type": "execute_result"
    }
   ],
   "source": [
    "from math import sqrt\n",
    "\n",
    "def cos_sim(ratings):\n",
    "    num_ratings = 0\n",
    "    sum_1 = sum_2= sum_12 = 0    \n",
    "    for rating1, rating2 in ratings:\n",
    "        sum_1 += rating1 * rating1\n",
    "        sum_2 += rating2 * rating2\n",
    "        sum_12 += rating1 * rating2\n",
    "        num_ratings += 1\n",
    "    \n",
    "    num = sum_12\n",
    "    den = sqrt(sum_1) * sqrt(sum_2)\n",
    "\n",
    "    return num / float(den), num_ratings\n",
    "\n",
    "cos_sim([(3.0, 4.0), (2.0, 1.0), (3.0, 1.0)])\n",
    "#(0.8542821429703302, 3)"
   ]
  },
  {
   "cell_type": "markdown",
   "metadata": {},
   "source": [
    "#### <font color=\"#004D7F\"> <i class=\"fa fa-pencil-square-o\" aria-hidden=\"true\" style=\"color:#113D68\"></i>  Ejercicio 7 </font> \n",
    "\n",
    "Calcular la similaridad coseno para cada par de películas de almacenadas en `movie_pairs_ratingsRDD`, y almacenar el resultado en `movie_pair_similaritiesRDD`. Hacer persistente el resultado llamando al método `cache()`. El resultado incluye la similaridad, así como el número de personas que han valorado ambas películas (es lo que devuelve la función `cos_sim`)."
   ]
  },
  {
   "cell_type": "code",
   "execution_count": 16,
   "metadata": {},
   "outputs": [],
   "source": [
    "movie_pair_similaritiesRDD  = movie_pairs_ratingsRDD.map(lambda data: (data[0], cos_sim(data[1]))).cache()"
   ]
  },
  {
   "cell_type": "code",
   "execution_count": 17,
   "metadata": {},
   "outputs": [
    {
     "data": {
      "text/plain": [
       "[((8752, 38886), (1.0, 1)),\n",
       " ((2283, 7791), (1.0, 1)),\n",
       " ((164, 1394), (0.970375652583419, 13))]"
      ]
     },
     "execution_count": 17,
     "metadata": {},
     "output_type": "execute_result"
    }
   ],
   "source": [
    "movie_pair_similaritiesRDD.take(3)\n",
    "\n",
    "# Puede cambiar\n",
    "#[((1757, 52241), (1.0, 1)),\n",
    "# ((1639, 67087), (0.8497058314499201, 5)),\n",
    "# ((2991, 101283), (1.0, 1))]"
   ]
  },
  {
   "cell_type": "markdown",
   "metadata": {},
   "source": [
    "---\n",
    "\n",
    "## 4. Películas similares a una dada.\n",
    "\n",
    "A continuación, se van a generar las películas similares a una dada (la 10). Solamente se considerarán aquellas cuya similaridad esté por encima de 0.97 y, además, hayan sido votadas por al menos 20 personas que votaron la película original. "
   ]
  },
  {
   "cell_type": "code",
   "execution_count": 18,
   "metadata": {},
   "outputs": [],
   "source": [
    "min_sim = 0.97\n",
    "min_common = 20\n",
    "movie_id = 1"
   ]
  },
  {
   "cell_type": "markdown",
   "metadata": {},
   "source": [
    "\n",
    "#### <font color=\"#004D7F\"> <i class=\"fa fa-pencil-square-o\" aria-hidden=\"true\" style=\"color:#113D68\"></i>  Ejercicio 8 </font> \n",
    "\n",
    "Filtrar los resultados de interés. Es decir, lo que que cumplan los criterios descritos anteriormente y almacenarlos en un RDD denominado `similar_moviesRDD`, es decir, que la primera o la segunda película sea `movie_id`, que la similaridad esté por encima de 0.97, y que el número de personas que han visto ambas sea al menos 50.  Utilizar la función `filter`."
   ]
  },
  {
   "cell_type": "code",
   "execution_count": 19,
   "metadata": {},
   "outputs": [],
   "source": [
    "similar_moviesRDD = movie_pair_similaritiesRDD.filter(lambda movie1_movie2_sim_len: ((movie1_movie2_sim_len[0][0] == movie_id) | (movie1_movie2_sim_len[0][1] == movie_id)) & (movie1_movie2_sim_len[1][0] > min_sim) & (movie1_movie2_sim_len[1][1] > min_common))"
   ]
  },
  {
   "cell_type": "code",
   "execution_count": 20,
   "metadata": {},
   "outputs": [
    {
     "data": {
      "text/plain": [
       "[((1, 88125), (0.9795807651660027, 22)),\n",
       " ((1, 2501), (0.9835876109987584, 21)),\n",
       " ((1, 34405), (0.9721097486997603, 27))]"
      ]
     },
     "execution_count": 20,
     "metadata": {},
     "output_type": "execute_result"
    }
   ],
   "source": [
    "similar_moviesRDD.take(3)\n",
    "#[((1, 88125), (0.9795807651660027, 22)),\n",
    "# ((1, 2501), (0.9835876109987584, 21)),\n",
    "# ((1, 34405), (0.9721097486997603, 27))]"
   ]
  },
  {
   "cell_type": "markdown",
   "metadata": {},
   "source": [
    "#### <font color=\"#004D7F\"> <i class=\"fa fa-pencil-square-o\" aria-hidden=\"true\" style=\"color:#113D68\"></i>  Ejercicio 9 </font> \n",
    "\n",
    "Ordenar los resultados de `similar_moviesRDD` por similaridad. Utilizar para ello `sortBy`. Devolver los 10 primeros elementos del RDD resultante con `take` y almacenarlos en la lista `results`.\n",
    "\n",
    "<div class=\"alert alert-block alert-danger\">\n",
    "<i class=\"fa fa-exclamation-triangle\" aria-hidden=\"true\"></i>\n",
    "__OJO!__ Esta operación también requiere varios minutos.\n",
    "</div>"
   ]
  },
  {
   "cell_type": "code",
   "execution_count": 21,
   "metadata": {},
   "outputs": [
    {
     "data": {
      "text/plain": [
       "[((1, 78499), (0.9910368615281989, 37)),\n",
       " ((1, 3114), (0.9870973879980668, 101)),\n",
       " ((1, 80463), (0.9862946237042478, 25))]"
      ]
     },
     "execution_count": 21,
     "metadata": {},
     "output_type": "execute_result"
    }
   ],
   "source": [
    "similar_moviesRDD = similar_moviesRDD.sortBy(lambda a: -a[1][0])\n",
    "results = similar_moviesRDD.take(10)\n",
    "\n",
    "results[:3]\n",
    "#[((1, 78499), (0.9910368615281989, 37)),\n",
    "# ((1, 3114), (0.9870973879980668, 101)),\n",
    "# ((1, 80463), (0.9862946237042478, 25))]"
   ]
  },
  {
   "cell_type": "markdown",
   "metadata": {},
   "source": [
    "#### <font color=\"#004D7F\"> <i class=\"fa fa-pencil-square-o\" aria-hidden=\"true\" style=\"color:#113D68\"></i>  Ejercicio 10 </font> \n",
    "\n",
    "Mostrar los resultados obtenidos.\n"
   ]
  },
  {
   "cell_type": "code",
   "execution_count": 22,
   "metadata": {},
   "outputs": [
    {
     "name": "stdout",
     "output_type": "stream",
     "text": [
      "Las 10 películas más parecidas a Toy Story (1995)\n",
      "\n",
      "\n",
      "Toy Story 3 (2010)\n",
      "Toy Story 2 (1999)\n",
      "Social Network, The (2010)\n",
      "Bug's Life, A (1998)\n",
      "October Sky (1999)\n",
      "Robin Hood (1973)\n",
      "Little Women (1994)\n",
      "Aviator, The (2004)\n",
      "Finding Nemo (2003)\n",
      "Jay and Silent Bob Strike Back (2001)\n"
     ]
    }
   ],
   "source": [
    "print(\"Las 10 películas más parecidas a \" + df_movies.loc[movie_id]['title']+\"\\n\\n\")\n",
    "\n",
    "for (movie1, movie2), (simil, number) in results:\n",
    "    if(movie1 != movie_id):\n",
    "        print(df_movies.loc[movie1]['title'])\n",
    "    else:\n",
    "        print(df_movies.loc[movie2]['title'])"
   ]
  },
  {
   "cell_type": "markdown",
   "metadata": {},
   "source": [
    "---\n",
    "\n",
    "## 5. Librería MLib: ALS (Alternative Least Squares)\n",
    "\n",
    "La librería _MLib_ contiene algoritmos de aprendizaje automáticos implementados para ejecutarse sobre la plataforma _Spark_. \n",
    "\n",
    "Como ejemplo, vamos entrenar un sistema de recomendación basado en _Alternative Least Squares_. Como se vio en el tema, este algoritmo optimiza tanto los parámetros que caracterizan las películas ($X$) como los que caracterizan a los usuarios $\\theta$. Es decir, hace una factorización de matrices."
   ]
  },
  {
   "cell_type": "code",
   "execution_count": 23,
   "metadata": {},
   "outputs": [],
   "source": [
    "from pyspark.mllib.recommendation import ALS, Rating"
   ]
  },
  {
   "cell_type": "markdown",
   "metadata": {},
   "source": [
    "#### <font color=\"#004D7F\"> <i class=\"fa fa-pencil-square-o\" aria-hidden=\"true\" style=\"color:#113D68\"></i>  Ejercicio 11 </font> \n",
    "\n",
    "Transformar los datos del RDD `dataRDD` en otro RDD de objetos `Rating`. Cada uno de ellos se crea como `Rating(user_id, movie_id,rating)`."
   ]
  },
  {
   "cell_type": "code",
   "execution_count": 24,
   "metadata": {},
   "outputs": [
    {
     "data": {
      "text/plain": [
       "[Rating(user=1, product=31, rating=2.5),\n",
       " Rating(user=1, product=1029, rating=3.0),\n",
       " Rating(user=1, product=1061, rating=3.0)]"
      ]
     },
     "execution_count": 24,
     "metadata": {},
     "output_type": "execute_result"
    }
   ],
   "source": [
    "ratingsRDD = ratingsRDD.map(lambda a: Rating(a[0], a[1][0], a[1][1]))\n",
    "ratingsRDD.take(3)\n",
    "#[Rating(user=1, product=31, rating=2.5), Rating(user=1, product=1029, rating=3.0), Rating(user=1, product=1061, rating=3.0)]"
   ]
  },
  {
   "cell_type": "markdown",
   "metadata": {},
   "source": [
    "#### <font color=\"#004D7F\"> <i class=\"fa fa-pencil-square-o\" aria-hidden=\"true\" style=\"color:#113D68\"></i>  Ejercicio 12 </font> \n",
    "\n",
    "Entrenar el modelo, con los parámetros proporcionados (mirar documentación). "
   ]
  },
  {
   "cell_type": "code",
   "execution_count": 25,
   "metadata": {},
   "outputs": [],
   "source": [
    "rank = 10\n",
    "n_iterations = 6\n",
    "\n",
    "model = ALS.train(ratingsRDD, rank, n_iterations)"
   ]
  },
  {
   "cell_type": "markdown",
   "metadata": {},
   "source": [
    "#### <font color=\"#004D7F\"> <i class=\"fa fa-pencil-square-o\" aria-hidden=\"true\" style=\"color:#113D68\"></i>  Ejercicio 13 </font> \n",
    "\n",
    "Obtener las valoraciones para el usuario 20 y almacenarlas en `user_ratingsRDD`."
   ]
  },
  {
   "cell_type": "code",
   "execution_count": 26,
   "metadata": {
    "scrolled": false
   },
   "outputs": [
    {
     "name": "stdout",
     "output_type": "stream",
     "text": [
      "\n",
      "Valoraciones para el usuario 20: \n",
      "\n",
      "El usuario ha votado 98 películas \n",
      "\n",
      "\n"
     ]
    }
   ],
   "source": [
    "user_id = 20\n",
    "print(\"\\nValoraciones para el usuario \" + str(user_id) + \": \\n\")\n",
    "\n",
    "# Filtra por usuario\n",
    "user_ratingsRDD = ratingsRDD.filter(lambda rating: rating.user == user_id)\n",
    "\n",
    "print(\"El usuario ha votado %d películas \\n\\n\" %  user_ratingsRDD.count())"
   ]
  },
  {
   "cell_type": "code",
   "execution_count": 27,
   "metadata": {},
   "outputs": [
    {
     "data": {
      "text/html": [
       "<table>\n",
       "<tr>\n",
       " <th style=\"text-align: center\" scope=\"col\">Título</th>\n",
       " <th style=\"text-align: center\" scope=\"col\">Géneros</th>\n",
       " <th style=\"text-align: center\" scope=\"col\">Score</th>\n",
       "</tr><tr><td style='text-align: left'>Much Ado About Nothing (1993)</td><td style='text-align: left'>Comedy|Romance</td><td style='text-align: left'>5.0</td></tr><tr><td style='text-align: left'>Wallace & Gromit: The Best of Aardman Animation (1996)</td><td style='text-align: left'>Adventure|Animation|Comedy</td><td style='text-align: left'>5.0</td></tr><tr><td style='text-align: left'>Wallace & Gromit: A Close Shave (1995)</td><td style='text-align: left'>Animation|Children|Comedy</td><td style='text-align: left'>5.0</td></tr><tr><td style='text-align: left'>Independence Day (a.k.a. ID4) (1996)</td><td style='text-align: left'>Action|Adventure|Sci-Fi|Thriller</td><td style='text-align: left'>5.0</td></tr><tr><td style='text-align: left'>Wallace & Gromit: The Wrong Trousers (1993)</td><td style='text-align: left'>Animation|Children|Comedy|Crime</td><td style='text-align: left'>5.0</td></tr><tr><td style='text-align: left'>Men in Black (a.k.a. MIB) (1997)</td><td style='text-align: left'>Action|Comedy|Sci-Fi</td><td style='text-align: left'>5.0</td></tr><tr><td style='text-align: left'>Sliding Doors (1998)</td><td style='text-align: left'>Drama|Romance</td><td style='text-align: left'>5.0</td></tr><tr><td style='text-align: left'>Ideal Husband, An (1999)</td><td style='text-align: left'>Comedy|Romance</td><td style='text-align: left'>5.0</td></tr><tr><td style='text-align: left'>I Was a Male War Bride (1949)</td><td style='text-align: left'>Comedy|Romance</td><td style='text-align: left'>5.0</td></tr><tr><td style='text-align: left'>Sergeant York (1941)</td><td style='text-align: left'>Drama|War</td><td style='text-align: left'>5.0</td></tr><tr><td style='text-align: left'>Amazing Grace (2006)</td><td style='text-align: left'>Drama|Romance</td><td style='text-align: left'>5.0</td></tr><tr><td style='text-align: left'>Wallace and Gromit in 'A Matter of Loaf and Death' (2008)</td><td style='text-align: left'>Animation|Comedy</td><td style='text-align: left'>5.0</td></tr><tr><td style='text-align: left'>Shawshank Redemption, The (1994)</td><td style='text-align: left'>Crime|Drama</td><td style='text-align: left'>4.5</td></tr><tr><td style='text-align: left'>Fugitive, The (1993)</td><td style='text-align: left'>Thriller</td><td style='text-align: left'>4.5</td></tr><tr><td style='text-align: left'>Monty Python and the Holy Grail (1975)</td><td style='text-align: left'>Adventure|Comedy|Fantasy</td><td style='text-align: left'>4.5</td></tr><tr><td style='text-align: left'>Raiders of the Lost Ark (Indiana Jones and the Raiders of the Lost Ark) (1981)</td><td style='text-align: left'>Action|Adventure</td><td style='text-align: left'>4.5</td></tr><tr><td style='text-align: left'>Lawrence of Arabia (1962)</td><td style='text-align: left'>Adventure|Drama|War</td><td style='text-align: left'>4.5</td></tr><tr><td style='text-align: left'>Jewel of the Nile, The (1985)</td><td style='text-align: left'>Action|Adventure|Comedy|Romance</td><td style='text-align: left'>4.5</td></tr><tr><td style='text-align: left'>Matrix, The (1999)</td><td style='text-align: left'>Action|Sci-Fi|Thriller</td><td style='text-align: left'>4.5</td></tr><tr><td style='text-align: left'>Captain Horatio Hornblower R.N. (1951)</td><td style='text-align: left'>Action|Adventure|Drama|War</td><td style='text-align: left'>4.5</td></tr><tr><td style='text-align: left'>Lady Jane (1986)</td><td style='text-align: left'>Drama|Romance</td><td style='text-align: left'>4.5</td></tr><tr><td style='text-align: left'>Whale Rider (2002)</td><td style='text-align: left'>Drama</td><td style='text-align: left'>4.5</td></tr><tr><td style='text-align: left'>Wallace & Gromit in The Curse of the Were-Rabbit (2005)</td><td style='text-align: left'>Adventure|Animation|Children|Comedy</td><td style='text-align: left'>4.5</td></tr><tr><td style='text-align: left'>Batman Forever (1995)</td><td style='text-align: left'>Action|Adventure|Comedy|Crime</td><td style='text-align: left'>4.0</td></tr><tr><td style='text-align: left'>True Lies (1994)</td><td style='text-align: left'>Action|Adventure|Comedy|Romance|Thriller</td><td style='text-align: left'>4.0</td></tr><tr><td style='text-align: left'>Batman (1989)</td><td style='text-align: left'>Action|Crime|Thriller</td><td style='text-align: left'>4.0</td></tr><tr><td style='text-align: left'>Beauty and the Beast (1991)</td><td style='text-align: left'>Animation|Children|Fantasy|Musical|Romance|IMAX</td><td style='text-align: left'>4.0</td></tr><tr><td style='text-align: left'>Pretty Woman (1990)</td><td style='text-align: left'>Comedy|Romance</td><td style='text-align: left'>4.0</td></tr><tr><td style='text-align: left'>Mystery Science Theater 3000: The Movie (1996)</td><td style='text-align: left'>Comedy|Sci-Fi</td><td style='text-align: left'>4.0</td></tr><tr><td style='text-align: left'>Dr. Strangelove or: How I Learned to Stop Worrying and Love the Bomb (1964)</td><td style='text-align: left'>Comedy|War</td><td style='text-align: left'>4.0</td></tr><tr><td style='text-align: left'>Rebel Without a Cause (1955)</td><td style='text-align: left'>Drama</td><td style='text-align: left'>4.0</td></tr><tr><td style='text-align: left'>To Kill a Mockingbird (1962)</td><td style='text-align: left'>Drama</td><td style='text-align: left'>4.0</td></tr><tr><td style='text-align: left'>Arsenic and Old Lace (1944)</td><td style='text-align: left'>Comedy|Mystery|Thriller</td><td style='text-align: left'>4.0</td></tr><tr><td style='text-align: left'>Mulan (1998)</td><td style='text-align: left'>Adventure|Animation|Children|Comedy|Drama|Musical|Romance</td><td style='text-align: left'>4.0</td></tr><tr><td style='text-align: left'>Last Emperor, The (1987)</td><td style='text-align: left'>Drama</td><td style='text-align: left'>4.0</td></tr><tr><td style='text-align: left'>Lord of the Rings: The Fellowship of the Ring, The (2001)</td><td style='text-align: left'>Adventure|Fantasy</td><td style='text-align: left'>4.0</td></tr><tr><td style='text-align: left'>Importance of Being Earnest, The (2002)</td><td style='text-align: left'>Comedy|Drama|Romance</td><td style='text-align: left'>4.0</td></tr><tr><td style='text-align: left'>Gallipoli (1981)</td><td style='text-align: left'>Drama|War</td><td style='text-align: left'>4.0</td></tr><tr><td style='text-align: left'>Anastasia (1956)</td><td style='text-align: left'>Drama</td><td style='text-align: left'>4.0</td></tr><tr><td style='text-align: left'>Secondhand Lions (2003)</td><td style='text-align: left'>Children|Comedy|Drama</td><td style='text-align: left'>4.0</td></tr><tr><td style='text-align: left'>Lord of the Rings: The Return of the King, The (2003)</td><td style='text-align: left'>Action|Adventure|Drama|Fantasy</td><td style='text-align: left'>4.0</td></tr><tr><td style='text-align: left'>Anne of the Thousand Days (1969)</td><td style='text-align: left'>Drama</td><td style='text-align: left'>4.0</td></tr><tr><td style='text-align: left'>Becket (1964)</td><td style='text-align: left'>Drama</td><td style='text-align: left'>4.0</td></tr><tr><td style='text-align: left'>We're No Angels (1955)</td><td style='text-align: left'>Comedy|Crime|Drama</td><td style='text-align: left'>4.0</td></tr><tr><td style='text-align: left'>Stardust (2007)</td><td style='text-align: left'>Adventure|Comedy|Fantasy|Romance</td><td style='text-align: left'>4.0</td></tr><tr><td style='text-align: left'>Definitely, Maybe (2008)</td><td style='text-align: left'>Comedy|Drama|Romance</td><td style='text-align: left'>4.0</td></tr><tr><td style='text-align: left'>Kung Fu Panda (2008)</td><td style='text-align: left'>Action|Animation|Children|Comedy|IMAX</td><td style='text-align: left'>4.0</td></tr><tr><td style='text-align: left'>Toy Story (1995)</td><td style='text-align: left'>Adventure|Animation|Children|Comedy|Fantasy</td><td style='text-align: left'>3.5</td></tr><tr><td style='text-align: left'>Babe (1995)</td><td style='text-align: left'>Children|Drama</td><td style='text-align: left'>3.5</td></tr><tr><td style='text-align: left'>Muppet Treasure Island (1996)</td><td style='text-align: left'>Adventure|Children|Comedy|Musical</td><td style='text-align: left'>3.5</td></tr><tr><td style='text-align: left'>Stargate (1994)</td><td style='text-align: left'>Action|Adventure|Sci-Fi</td><td style='text-align: left'>3.5</td></tr><tr><td style='text-align: left'>Lion King, The (1994)</td><td style='text-align: left'>Adventure|Animation|Children|Drama|Musical|IMAX</td><td style='text-align: left'>3.5</td></tr><tr><td style='text-align: left'>Aladdin (1992)</td><td style='text-align: left'>Adventure|Animation|Children|Comedy|Musical</td><td style='text-align: left'>3.5</td></tr><tr><td style='text-align: left'>Twister (1996)</td><td style='text-align: left'>Action|Adventure|Romance|Thriller</td><td style='text-align: left'>3.5</td></tr><tr><td style='text-align: left'>It Happened One Night (1934)</td><td style='text-align: left'>Comedy|Romance</td><td style='text-align: left'>3.5</td></tr><tr><td style='text-align: left'>Back to the Future (1985)</td><td style='text-align: left'>Adventure|Comedy|Sci-Fi</td><td style='text-align: left'>3.5</td></tr><tr><td style='text-align: left'>Gandhi (1982)</td><td style='text-align: left'>Drama</td><td style='text-align: left'>3.5</td></tr><tr><td style='text-align: left'>Sixth Sense, The (1999)</td><td style='text-align: left'>Drama|Horror|Mystery</td><td style='text-align: left'>3.5</td></tr><tr><td style='text-align: left'>Spirited Away (Sen to Chihiro no kamikakushi) (2001)</td><td style='text-align: left'>Adventure|Animation|Fantasy</td><td style='text-align: left'>3.5</td></tr><tr><td style='text-align: left'>Memphis Belle (1990)</td><td style='text-align: left'>Action|Drama|War</td><td style='text-align: left'>3.5</td></tr><tr><td style='text-align: left'>Horton Hears a Who! (2008)</td><td style='text-align: left'>Adventure|Animation|Children|Comedy</td><td style='text-align: left'>3.5</td></tr><tr><td style='text-align: left'>Apollo 13 (1995)</td><td style='text-align: left'>Adventure|Drama|IMAX</td><td style='text-align: left'>3.0</td></tr><tr><td style='text-align: left'>Jurassic Park (1993)</td><td style='text-align: left'>Action|Adventure|Sci-Fi|Thriller</td><td style='text-align: left'>3.0</td></tr><tr><td style='text-align: left'>Mrs. Doubtfire (1993)</td><td style='text-align: left'>Comedy|Drama</td><td style='text-align: left'>3.0</td></tr><tr><td style='text-align: left'>Rear Window (1954)</td><td style='text-align: left'>Mystery|Thriller</td><td style='text-align: left'>3.0</td></tr><tr><td style='text-align: left'>20,000 Leagues Under the Sea (1954)</td><td style='text-align: left'>Adventure|Drama|Sci-Fi</td><td style='text-align: left'>3.0</td></tr><tr><td style='text-align: left'>Star Wars: Episode VI - Return of the Jedi (1983)</td><td style='text-align: left'>Action|Adventure|Sci-Fi</td><td style='text-align: left'>3.0</td></tr><tr><td style='text-align: left'>Young Guns (1988)</td><td style='text-align: left'>Action|Comedy|Western</td><td style='text-align: left'>3.0</td></tr><tr><td style='text-align: left'>Poseidon Adventure, The (1972)</td><td style='text-align: left'>Action|Adventure|Drama</td><td style='text-align: left'>3.0</td></tr><tr><td style='text-align: left'>Twelve Monkeys (a.k.a. 12 Monkeys) (1995)</td><td style='text-align: left'>Mystery|Sci-Fi|Thriller</td><td style='text-align: left'>2.5</td></tr><tr><td style='text-align: left'>Walk in the Clouds, A (1995)</td><td style='text-align: left'>Drama|Romance</td><td style='text-align: left'>2.5</td></tr><tr><td style='text-align: left'>Schindler's List (1993)</td><td style='text-align: left'>Drama|War</td><td style='text-align: left'>2.5</td></tr><tr><td style='text-align: left'>Benny & Joon (1993)</td><td style='text-align: left'>Comedy|Romance</td><td style='text-align: left'>2.5</td></tr><tr><td style='text-align: left'>Finding Neverland (2004)</td><td style='text-align: left'>Drama</td><td style='text-align: left'>2.5</td></tr><tr><td style='text-align: left'>Braveheart (1995)</td><td style='text-align: left'>Action|Drama|War</td><td style='text-align: left'>2.0</td></tr><tr><td style='text-align: left'>Forrest Gump (1994)</td><td style='text-align: left'>Comedy|Drama|Romance|War</td><td style='text-align: left'>2.0</td></tr><tr><td style='text-align: left'>Dances with Wolves (1990)</td><td style='text-align: left'>Adventure|Drama|Western</td><td style='text-align: left'>2.0</td></tr><tr><td style='text-align: left'>Fargo (1996)</td><td style='text-align: left'>Comedy|Crime|Drama|Thriller</td><td style='text-align: left'>2.0</td></tr><tr><td style='text-align: left'>Godfather, The (1972)</td><td style='text-align: left'>Crime|Drama</td><td style='text-align: left'>2.0</td></tr><tr><td style='text-align: left'>Casablanca (1942)</td><td style='text-align: left'>Drama|Romance</td><td style='text-align: left'>2.0</td></tr><tr><td style='text-align: left'>Star Wars: Episode V - The Empire Strikes Back (1980)</td><td style='text-align: left'>Action|Adventure|Sci-Fi</td><td style='text-align: left'>2.0</td></tr><tr><td style='text-align: left'>U-571 (2000)</td><td style='text-align: left'>Action|Thriller|War</td><td style='text-align: left'>2.0</td></tr><tr><td style='text-align: left'>What About Bob? (1991)</td><td style='text-align: left'>Comedy</td><td style='text-align: left'>2.0</td></tr><tr><td style='text-align: left'>Star Wars: Episode IV - A New Hope (1977)</td><td style='text-align: left'>Action|Adventure|Sci-Fi</td><td style='text-align: left'>1.5</td></tr><tr><td style='text-align: left'>E.T. the Extra-Terrestrial (1982)</td><td style='text-align: left'>Children|Drama|Sci-Fi</td><td style='text-align: left'>1.5</td></tr><tr><td style='text-align: left'>Farmer's Daughter, The (1947)</td><td style='text-align: left'>Comedy</td><td style='text-align: left'>1.5</td></tr><tr><td style='text-align: left'>Dumb & Dumber (Dumb and Dumber) (1994)</td><td style='text-align: left'>Adventure|Comedy</td><td style='text-align: left'>1.0</td></tr><tr><td style='text-align: left'>Ace Ventura: Pet Detective (1994)</td><td style='text-align: left'>Comedy</td><td style='text-align: left'>1.0</td></tr><tr><td style='text-align: left'>Mask, The (1994)</td><td style='text-align: left'>Action|Comedy|Crime|Fantasy</td><td style='text-align: left'>1.0</td></tr><tr><td style='text-align: left'>Graduate, The (1967)</td><td style='text-align: left'>Comedy|Drama|Romance</td><td style='text-align: left'>1.0</td></tr><tr><td style='text-align: left'>Children of Dune (2003)</td><td style='text-align: left'>Fantasy|Sci-Fi</td><td style='text-align: left'>1.0</td></tr><tr><td style='text-align: left'>Red Balloon, The (Ballon rouge, Le) (1956)</td><td style='text-align: left'>Children|Fantasy</td><td style='text-align: left'>1.0</td></tr><tr><td style='text-align: left'>Pulp Fiction (1994)</td><td style='text-align: left'>Comedy|Crime|Drama|Thriller</td><td style='text-align: left'>0.5</td></tr><tr><td style='text-align: left'>Silence of the Lambs, The (1991)</td><td style='text-align: left'>Crime|Horror|Thriller</td><td style='text-align: left'>0.5</td></tr><tr><td style='text-align: left'>Boys Don't Cry (1999)</td><td style='text-align: left'>Drama</td><td style='text-align: left'>0.5</td></tr><tr><td style='text-align: left'>Fight Club (1999)</td><td style='text-align: left'>Action|Crime|Drama|Thriller</td><td style='text-align: left'>0.5</td></tr><tr><td style='text-align: left'>Cider House Rules, The (1999)</td><td style='text-align: left'>Drama</td><td style='text-align: left'>0.5</td></tr><tr><td style='text-align: left'>Stalag 17 (1953)</td><td style='text-align: left'>Drama|War</td><td style='text-align: left'>0.5</td></tr></table>"
      ],
      "text/plain": [
       "<IPython.core.display.HTML object>"
      ]
     },
     "metadata": {},
     "output_type": "display_data"
    }
   ],
   "source": [
    "# Las imprime\n",
    "test = \"\"\"<table>\n",
    "<tr>\n",
    " <th style=\"text-align: center\" scope=\"col\">Título</th>\n",
    " <th style=\"text-align: center\" scope=\"col\">Géneros</th>\n",
    " <th style=\"text-align: center\" scope=\"col\">Score</th>\n",
    "</tr>\"\"\"\n",
    "for element in sorted(user_ratingsRDD.collect(), key=lambda rate: -rate.rating):\n",
    "    movie = df_movies.loc[element.product]\n",
    "    test += \"<tr><td style='text-align: left'>{0}</td><td style='text-align: left'>{1}</td><td style='text-align: left'>{2}</td></tr>\".format(movie.title, movie.genres, element.rating)\n",
    "test += \"</table>\"\n",
    "display(HTML(test))"
   ]
  },
  {
   "cell_type": "markdown",
   "metadata": {},
   "source": [
    "#### <font color=\"#004D7F\"> <i class=\"fa fa-pencil-square-o\" aria-hidden=\"true\" style=\"color:#113D68\"></i>  Ejercicio 14 </font> \n",
    "\n",
    "Obtener e imprimir las 10 mejores recomendaciones para el usuario (a partir del objeto `model`) creado anteriormente."
   ]
  },
  {
   "cell_type": "code",
   "execution_count": 28,
   "metadata": {},
   "outputs": [
    {
     "name": "stdout",
     "output_type": "stream",
     "text": [
      "\n",
      "Mejores 10 recomendaciones \n",
      " \n"
     ]
    },
    {
     "data": {
      "text/html": [
       "<table>\n",
       "<tr>\n",
       " <th style=\"text-align: center\" scope=\"col\">Título</th>\n",
       " <th style=\"text-align: center\" scope=\"col\">Géneros</th>\n",
       " <th style=\"text-align: center\" scope=\"col\">Score</th>\n",
       "</tr><tr><td style='text-align: left'>Secret in Their Eyes, The (El secreto de sus ojos) (2009)</td><td style='text-align: left'>Crime|Drama|Mystery|Romance|Thriller</td><td style='text-align: left'>7.543465894597417</td></tr><tr><td style='text-align: left'>Spun (2001)</td><td style='text-align: left'>Comedy|Crime|Drama</td><td style='text-align: left'>7.473879537333322</td></tr><tr><td style='text-align: left'>Bewitched (2005)</td><td style='text-align: left'>Comedy|Fantasy|Romance</td><td style='text-align: left'>7.433187521261308</td></tr><tr><td style='text-align: left'>The Hunger Games: Catching Fire (2013)</td><td style='text-align: left'>Action|Adventure|Sci-Fi|IMAX</td><td style='text-align: left'>7.233401068366436</td></tr><tr><td style='text-align: left'>Hellraiser: Bloodline (1996)</td><td style='text-align: left'>Action|Horror|Sci-Fi</td><td style='text-align: left'>7.136447642696497</td></tr><tr><td style='text-align: left'>Catwoman (2004)</td><td style='text-align: left'>Action|Crime|Fantasy</td><td style='text-align: left'>7.052642315313019</td></tr><tr><td style='text-align: left'>George of the Jungle (1997)</td><td style='text-align: left'>Children|Comedy</td><td style='text-align: left'>7.029584663038314</td></tr><tr><td style='text-align: left'>Kurt & Courtney (1998)</td><td style='text-align: left'>Documentary</td><td style='text-align: left'>6.9494069538121</td></tr><tr><td style='text-align: left'>Small Soldiers (1998)</td><td style='text-align: left'>Animation|Children|Fantasy|War</td><td style='text-align: left'>6.9473808858051775</td></tr><tr><td style='text-align: left'>Bride & Prejudice (2004)</td><td style='text-align: left'>Comedy|Musical|Romance</td><td style='text-align: left'>6.926976032711229</td></tr></table>"
      ],
      "text/plain": [
       "<IPython.core.display.HTML object>"
      ]
     },
     "metadata": {},
     "output_type": "display_data"
    }
   ],
   "source": [
    "print(\"\\nMejores 10 recomendaciones \\n \")\n",
    "seen_movies = list(map(lambda rat: rat.product, user_ratingsRDD.collect()))\n",
    "not_seen_movies = df_movies[np.isin(df_movies.index, seen_movies, invert=True)].index\n",
    "prepared_data = list(map(lambda movie_id: (user_id, movie_id), not_seen_movies))\n",
    "predicted_data = sorted(model.predictAll(sc.parallelize(prepared_data)).collect(), key=lambda a: -a.rating)[:10]\n",
    "\n",
    "test = \"\"\"<table>\n",
    "<tr>\n",
    " <th style=\"text-align: center\" scope=\"col\">Título</th>\n",
    " <th style=\"text-align: center\" scope=\"col\">Géneros</th>\n",
    " <th style=\"text-align: center\" scope=\"col\">Score</th>\n",
    "</tr>\"\"\"\n",
    "for element in predicted_data:\n",
    "    movie = df_movies.loc[element.product]\n",
    "    test += \"<tr><td style='text-align: left'>{0}</td><td style='text-align: left'>{1}</td><td style='text-align: left'>{2}</td></tr>\".format(movie.title, movie.genres, element.rating)\n",
    "test += \"</table>\"\n",
    "display(HTML(test))"
   ]
  },
  {
   "cell_type": "markdown",
   "metadata": {},
   "source": [
    "<div style=\"text-align: right\"> <font size=5> [<i class=\"fa fa-arrow-circle-up\" aria-hidden=\"true\" style=\"color:#990003\">](#principio)</i></font></div>\n",
    "\n",
    "---\n",
    "\n",
    "<div style=\"text-align: right\"> <font size=6><i class=\"fa fa-coffee\" aria-hidden=\"true\" style=\"color:#990003\"></i> </font></div>"
   ]
  },
  {
   "cell_type": "code",
   "execution_count": null,
   "metadata": {},
   "outputs": [],
   "source": []
  }
 ],
 "metadata": {
  "kernelspec": {
   "display_name": "Python 3.5 with Spark 2.1",
   "language": "python",
   "name": "python3-spark21"
  },
  "language_info": {
   "codemirror_mode": {
    "name": "ipython",
    "version": 3
   },
   "file_extension": ".py",
   "mimetype": "text/x-python",
   "name": "python",
   "nbconvert_exporter": "python",
   "pygments_lexer": "ipython3",
   "version": "3.5.4"
  }
 },
 "nbformat": 4,
 "nbformat_minor": 2
}
